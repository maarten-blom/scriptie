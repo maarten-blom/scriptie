{
 "cells": [
  {
   "cell_type": "markdown",
   "id": "5e25ea09-74d6-47e6-bad6-e922f52c3532",
   "metadata": {},
   "source": [
    "# Personal Information\n",
    "Name: **Maarten Blom**\n",
    "\n",
    "StudentID: **12877034**\n",
    "\n",
    "Email: [**maarten.blom@student.uva.nl**](maarten.blom@student.uva.nl)\n",
    "\n",
    "GITHUB:**maarten.blom@student.uva.nl** \n",
    "\n",
    "Submitted on: **22.03.2024**"
   ]
  },
  {
   "cell_type": "markdown",
   "id": "e3cf6243-adfe-4eb8-bba3-bb2835079abd",
   "metadata": {},
   "source": [
    "# Data Context\n",
    "The data used was found here: https://www.kaggle.com/code/ekami66/detailed-exploratory-data-analysis-with-python \n",
    "\n",
    "This is a curated dataset. Not much cleaning will need to be performed.\n",
    "\n",
    "\n",
    "The goal is to find provenance in slides through the papers like this: \n",
    "\n",
    "slide1 is created from paper1\n",
    "\n",
    "slide2 is created from paper2\n",
    "\n",
    "paper1 refers to paper2\n",
    "\n",
    "slide1 has provenance in slide 2"
   ]
  },
  {
   "cell_type": "markdown",
   "id": "a833d964-56e1-49c7-8172-7435357624aa",
   "metadata": {},
   "source": [
    "# Data Description\n",
    "\n",
    "Each entry contains a scientific paper and its slides, stored both in XML and PDF format. \n",
    "\n",
    "The XML files contain the structure and the content of the documents, but does not include the images.\n",
    "\n",
    "XML is easy tot work with, because it is very structured and the tags used is standardised.The PDF files are harder to work with. I will try this approach later."
   ]
  },
  {
   "cell_type": "markdown",
   "id": "160a7e4e-3083-4ec7-b17b-534228fdcc1b",
   "metadata": {},
   "source": [
    "### Imports"
   ]
  },
  {
   "cell_type": "code",
   "execution_count": 1,
   "id": "05223cb4-8741-43bf-8875-657f3d120395",
   "metadata": {},
   "outputs": [],
   "source": [
    "#!pip install tqdm"
   ]
  },
  {
   "cell_type": "code",
   "execution_count": 2,
   "id": "534317db-d881-4e33-a358-754e2881e8bd",
   "metadata": {},
   "outputs": [],
   "source": [
    "import re\n",
    "import os\n",
    "import numpy as np\n",
    "import pandas as pd\n",
    "from tqdm import tqdm\n",
    "import xml.etree.ElementTree as ET\n",
    "import matplotlib.pyplot as plt"
   ]
  },
  {
   "cell_type": "markdown",
   "id": "b582b299-f599-4140-a454-bcbfdeeb273f",
   "metadata": {},
   "source": [
    "### Data Loading"
   ]
  },
  {
   "cell_type": "code",
   "execution_count": 3,
   "id": "9f0cf9be-2cac-4227-957f-ad893212e70c",
   "metadata": {},
   "outputs": [
    {
     "name": "stderr",
     "output_type": "stream",
     "text": [
      "100%|█████████████████████████████████████████████████████████████████████████████| 5001/5001 [00:48<00:00, 102.23it/s]\n"
     ]
    }
   ],
   "source": [
    "df = pd.DataFrame(columns = ['Paper', 'Slides'])\n",
    "\n",
    "for folder_num in tqdm(range(5001)):\n",
    "    paper = np.nan\n",
    "    slides = np.nan\n",
    "    folder_path = os.path.join(\"dataset\", str(folder_num))\n",
    "    for file_name in os.listdir(folder_path):\n",
    "        if file_name.endswith('.tei.xml'):\n",
    "            paper = ET.parse(os.path.join(folder_path, file_name))\n",
    "        if file_name.endswith('.clean_tika.xml'):\n",
    "            slides = ET.parse(os.path.join(folder_path, file_name))\n",
    "            \n",
    "    df.loc[folder_num] = [paper, slides]"
   ]
  },
  {
   "cell_type": "code",
   "execution_count": 13,
   "id": "c746615f-97ee-4945-ad42-bb59d84449a1",
   "metadata": {},
   "outputs": [
    {
     "name": "stdout",
     "output_type": "stream",
     "text": [
      "amount of rows with missing .xml files:  25 out of 4984\n",
      "these will be dropped\n"
     ]
    }
   ],
   "source": [
    "print(\"amount of rows with missing .xml files: \", len(df[df.isna().any(axis=1)]), \"out of\", len(df))\n",
    "print(\"these will be dropped\")\n",
    "df = df.dropna()"
   ]
  },
  {
   "cell_type": "markdown",
   "id": "1882a9b7-5566-4d09-a2d9-03fa56d2e946",
   "metadata": {},
   "source": [
    "### Raw Text extraction"
   ]
  },
  {
   "cell_type": "markdown",
   "id": "b4df9546-a6d7-4678-aca6-cd13d5f3c79a",
   "metadata": {},
   "source": [
    "### Analysis 1: Paper text\n"
   ]
  },
  {
   "cell_type": "markdown",
   "id": "994bd5ed-b921-48da-9549-611ae008305b",
   "metadata": {},
   "source": [
    "First, get raw text. "
   ]
  },
  {
   "cell_type": "code",
   "execution_count": 5,
   "id": "bea1dfa5-fe46-464e-adf1-04fed484bf5b",
   "metadata": {},
   "outputs": [],
   "source": [
    "def get_content_from_paper(tree):\n",
    "    text = \"\"\n",
    "    for element in tree.iter():\n",
    "        if element.tag == \"{http://www.tei-c.org/ns/1.0}body\":\n",
    "            for sub_element in element.iter():\n",
    "                if sub_element.tag is not None:\n",
    "                    text += sub_element.text or \"\"\n",
    "    return text\n",
    "    \n",
    "df.loc[:, \"PaperContent\"] = df.Paper.apply(get_content_from_paper)"
   ]
  },
  {
   "cell_type": "markdown",
   "id": "2ebaa976-1728-414d-8b6a-4b324150e17c",
   "metadata": {},
   "source": [
    "Plot for length"
   ]
  },
  {
   "cell_type": "code",
   "execution_count": 6,
   "id": "0434e801-f04d-4d0e-bd02-cead66d32deb",
   "metadata": {},
   "outputs": [
    {
     "name": "stdout",
     "output_type": "stream",
     "text": [
      "Paper amount of characters Mean:  28948.222110754414\n"
     ]
    },
    {
     "data": {
      "image/png": "[encoded data removed]",
      "text/plain": [
       "<Figure size 1200x600 with 2 Axes>"
      ]
     },
     "metadata": {},
     "output_type": "display_data"
    }
   ],
   "source": [
    "fig, (ax1, ax2) = plt.subplots(1, 2, figsize=(12, 6))\n",
    "fig.suptitle('Horizontally stacked subplots')\n",
    "ax1.hist(df.PaperContent.apply(len))\n",
    "ax2.hist(df.PaperContent.apply(len), range = (0, 3000))\n",
    "\n",
    "print(\"Paper amount of characters Mean: \", df.PaperContent.apply(len).mean())"
   ]
  },
  {
   "cell_type": "markdown",
   "id": "b9be9332-9465-4058-9aa6-9a6407eba2ce",
   "metadata": {},
   "source": [
    "An avarage text document page is ~3000 characters long. A few documents in the dataset are lower than that. They will need to be looked at individualy."
   ]
  },
  {
   "cell_type": "code",
   "execution_count": 7,
   "id": "9a4120a6-5274-435a-a7dc-96f8228afb18",
   "metadata": {},
   "outputs": [
    {
     "name": "stdout",
     "output_type": "stream",
     "text": [
      "Amount of documents with a suspiciously low charcter count:  32\n"
     ]
    }
   ],
   "source": [
    "print(\"Amount of documents with a suspiciously low charcter count: \", len(df[df[\"PaperContent\"].str.len() < 3000]))"
   ]
  },
  {
   "cell_type": "markdown",
   "id": "1e1fa654-0371-4f0a-b3b4-c44f3bb550b1",
   "metadata": {},
   "source": [
    "### Analysis 2: Slide text\n",
    "The same analysis can be done for slides"
   ]
  },
  {
   "cell_type": "code",
   "execution_count": 8,
   "id": "8ae4bd80-7fa5-4c86-a3d0-cd5d64c13647",
   "metadata": {},
   "outputs": [],
   "source": [
    "def get_content_from_slides(tree):\n",
    "    text = \"\"\n",
    "    for element in tree.iter():\n",
    "        if element.tag == \"p\":\n",
    "            for sub_element in element.iter():\n",
    "                if sub_element.tag is not None:\n",
    "                    text += sub_element.text or \"\"\n",
    "    return text\n",
    "    \n",
    "df.loc[:, \"SlidesContent\"] = df.Slides.apply(get_content_from_slides)"
   ]
  },
  {
   "cell_type": "code",
   "execution_count": 9,
   "id": "29c2f36f-4a26-4cae-882c-97cfba24719d",
   "metadata": {},
   "outputs": [
    {
     "name": "stdout",
     "output_type": "stream",
     "text": [
      "Paper amount of characters Mean:  8708.395465489566\n"
     ]
    },
    {
     "data": {
      "image/png": "[encoded data removed]",
      "text/plain": [
       "<Figure size 1200x600 with 2 Axes>"
      ]
     },
     "metadata": {},
     "output_type": "display_data"
    }
   ],
   "source": [
    "fig, (ax1, ax2) = plt.subplots(1, 2, figsize=(12, 6))\n",
    "fig.suptitle('Horizontally stacked subplots')\n",
    "ax1.hist(df.SlidesContent.apply(len), range = (0, 40000))\n",
    "ax2.hist(df.SlidesContent.apply(len), range = (0, 1000))\n",
    "\n",
    "print(\"Paper amount of characters Mean: \", df.SlidesContent.apply(len).mean())"
   ]
  },
  {
   "cell_type": "markdown",
   "id": "cbba3cfb-6939-449a-8c3d-305e46fcd62f",
   "metadata": {},
   "source": [
    "Some slides also have a suspiciously low character count. They will need to be looked at individualy."
   ]
  },
  {
   "cell_type": "code",
   "execution_count": 10,
   "id": "4dccd9c3-7be3-4e7c-806d-f89a4720313d",
   "metadata": {},
   "outputs": [
    {
     "name": "stdout",
     "output_type": "stream",
     "text": [
      "Amount of documents with a suspiciously low charcter count:  39\n"
     ]
    }
   ],
   "source": [
    "print(\"Amount of documents with a suspiciously low charcter count: \", len(df[df[\"SlidesContent\"].str.len() < 1000]))"
   ]
  },
  {
   "cell_type": "markdown",
   "id": "7942a63d-a260-400a-a58a-fad29afd2d78",
   "metadata": {},
   "source": [
    "### Analysis 3: Title and References\n",
    "For provenance research, I need the title of the paper. I can use one of many API's to search for the paper and its references(I could also directly extract those just like I did the Title)."
   ]
  },
  {
   "cell_type": "code",
   "execution_count": 11,
   "id": "d0781aa0-3ea6-455c-9863-0d0a28f40ca4",
   "metadata": {},
   "outputs": [],
   "source": [
    "#{http://www.tei-c.org/ns/1.0}\n",
    "\n",
    "def get_title(tree):\n",
    "    for element in tree.iter():\n",
    "        if element.tag == \"{http://www.tei-c.org/ns/1.0}titleStmt\":\n",
    "            for sub_element in element.iter():\n",
    "                if sub_element.tag == \"{http://www.tei-c.org/ns/1.0}title\":\n",
    "                    return sub_element.text\n",
    "    return None\n",
    "df.loc[:, \"Title\"] = df.Paper.apply(get_title)"
   ]
  },
  {
   "cell_type": "markdown",
   "id": "13783219-58b0-4d70-8e56-3134528da142",
   "metadata": {},
   "source": [
    "### Discussion\n",
    "For a text-based approach, this is sufficcient. After looking at the suspicious documents, I can train a NLP model on either the raw text or the entirety of the XML code of the slide and the paper. \n",
    "\n",
    "I also want to include images found in the Paper and the Slides. These are not found in the XML files, but can be extracted from the PDF's. I've tried this, but havent been able to filter out the layout elements and the actual figures.\n",
    "\n",
    "After finding the corrosponding paper to the slide, I can create a directed graph by linking the slides to the slides which its paper refers to. This is the goal that will be achieved."
   ]
  },
  {
   "cell_type": "code",
   "execution_count": null,
   "id": "7c496ea9-f2df-49c7-b65c-4f705401806f",
   "metadata": {},
   "outputs": [],
   "source": [
    "df"
   ]
  }
 ],
 "metadata": {
  "kernelspec": {
   "display_name": "Python 3 (ipykernel)",
   "language": "python",
   "name": "python3"
  },
  "language_info": {
   "codemirror_mode": {
    "name": "ipython",
    "version": 3
   },
   "file_extension": ".py",
   "mimetype": "text/x-python",
   "name": "python",
   "nbconvert_exporter": "python",
   "pygments_lexer": "ipython3",
   "version": "3.11.7"
  },
  "vscode": {
   "interpreter": {
    "hash": "f4bc7a400e35f160b13ed52195005e41b219907c1be09b125a1c17e685484faa"
   }
  }
 },
 "nbformat": 4,
 "nbformat_minor": 5
}
